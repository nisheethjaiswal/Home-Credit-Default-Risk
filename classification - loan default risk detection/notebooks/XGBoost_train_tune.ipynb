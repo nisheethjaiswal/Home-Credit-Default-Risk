{
 "cells": [
  {
   "cell_type": "code",
   "execution_count": 1,
   "id": "union-triangle",
   "metadata": {
    "ExecuteTime": {
     "end_time": "2021-05-14T14:51:19.509444Z",
     "start_time": "2021-05-14T14:51:15.851920Z"
    }
   },
   "outputs": [
    {
     "name": "stdout",
     "output_type": "stream",
     "text": [
      "Populating the interactive namespace from numpy and matplotlib\n"
     ]
    }
   ],
   "source": [
    "import numpy as np\n",
    "import os\n",
    "import pandas as pd\n",
    "np.random.seed(42)\n",
    "\n",
    "%matplotlib inline\n",
    "import matplotlib as mpl\n",
    "import matplotlib.pyplot as plt\n",
    "\n",
    "%pylab inline\n",
    "\n",
    "\n",
    "from collections import OrderedDict\n",
    "\n",
    "import seaborn as sns\n",
    "sns.set()\n",
    "\n",
    "from sklearn.metrics import f1_score, roc_auc_score, roc_curve, precision_score, recall_score, fbeta_score\n",
    "\n",
    "import warnings\n",
    "warnings.simplefilter(action='ignore')\n",
    "\n",
    "import imblearn.over_sampling\n",
    "\n",
    "from sklearn.preprocessing import MinMaxScaler, Binarizer, OneHotEncoder, StandardScaler, OrdinalEncoder, PolynomialFeatures\n",
    "from sklearn.impute import SimpleImputer\n",
    "from sklearn.model_selection import train_test_split"
   ]
  },
  {
   "cell_type": "markdown",
   "id": "valid-klein",
   "metadata": {},
   "source": [
    "### Load data"
   ]
  },
  {
   "cell_type": "code",
   "execution_count": 2,
   "id": "lesbian-clarity",
   "metadata": {
    "ExecuteTime": {
     "end_time": "2021-05-14T14:51:23.450407Z",
     "start_time": "2021-05-14T14:51:19.513410Z"
    }
   },
   "outputs": [
    {
     "name": "stdout",
     "output_type": "stream",
     "text": [
      "(307511, 247)\n"
     ]
    },
    {
     "data": {
      "text/html": [
       "<div>\n",
       "<style scoped>\n",
       "    .dataframe tbody tr th:only-of-type {\n",
       "        vertical-align: middle;\n",
       "    }\n",
       "\n",
       "    .dataframe tbody tr th {\n",
       "        vertical-align: top;\n",
       "    }\n",
       "\n",
       "    .dataframe thead th {\n",
       "        text-align: right;\n",
       "    }\n",
       "</style>\n",
       "<table border=\"1\" class=\"dataframe\">\n",
       "  <thead>\n",
       "    <tr style=\"text-align: right;\">\n",
       "      <th></th>\n",
       "      <th>SK_ID_CURR</th>\n",
       "      <th>TARGET</th>\n",
       "      <th>CNT_CHILDREN</th>\n",
       "      <th>AMT_INCOME_TOTAL</th>\n",
       "      <th>AMT_CREDIT</th>\n",
       "      <th>AMT_ANNUITY</th>\n",
       "      <th>AMT_GOODS_PRICE</th>\n",
       "      <th>REGION_POPULATION_RELATIVE</th>\n",
       "      <th>DAYS_BIRTH</th>\n",
       "      <th>DAYS_EMPLOYED</th>\n",
       "      <th>...</th>\n",
       "      <th>WALLSMATERIAL_MODE_Block</th>\n",
       "      <th>WALLSMATERIAL_MODE_Mixed</th>\n",
       "      <th>WALLSMATERIAL_MODE_Monolithic</th>\n",
       "      <th>WALLSMATERIAL_MODE_Others</th>\n",
       "      <th>WALLSMATERIAL_MODE_Panel</th>\n",
       "      <th>WALLSMATERIAL_MODE_Stone, brick</th>\n",
       "      <th>WALLSMATERIAL_MODE_Wooden</th>\n",
       "      <th>EMERGENCYSTATE_MODE_No</th>\n",
       "      <th>EMERGENCYSTATE_MODE_Yes</th>\n",
       "      <th>DAYS_EMPLOYED_ANOM</th>\n",
       "    </tr>\n",
       "  </thead>\n",
       "  <tbody>\n",
       "    <tr>\n",
       "      <th>0</th>\n",
       "      <td>100002</td>\n",
       "      <td>1</td>\n",
       "      <td>0</td>\n",
       "      <td>202500.0</td>\n",
       "      <td>406597.5</td>\n",
       "      <td>24700.5</td>\n",
       "      <td>351000.0</td>\n",
       "      <td>0.018801</td>\n",
       "      <td>-9461</td>\n",
       "      <td>637.0</td>\n",
       "      <td>...</td>\n",
       "      <td>0</td>\n",
       "      <td>0</td>\n",
       "      <td>0</td>\n",
       "      <td>0</td>\n",
       "      <td>0</td>\n",
       "      <td>1</td>\n",
       "      <td>0</td>\n",
       "      <td>1</td>\n",
       "      <td>0</td>\n",
       "      <td>False</td>\n",
       "    </tr>\n",
       "    <tr>\n",
       "      <th>1</th>\n",
       "      <td>100003</td>\n",
       "      <td>0</td>\n",
       "      <td>0</td>\n",
       "      <td>270000.0</td>\n",
       "      <td>1293502.5</td>\n",
       "      <td>35698.5</td>\n",
       "      <td>1129500.0</td>\n",
       "      <td>0.003541</td>\n",
       "      <td>-16765</td>\n",
       "      <td>1188.0</td>\n",
       "      <td>...</td>\n",
       "      <td>1</td>\n",
       "      <td>0</td>\n",
       "      <td>0</td>\n",
       "      <td>0</td>\n",
       "      <td>0</td>\n",
       "      <td>0</td>\n",
       "      <td>0</td>\n",
       "      <td>1</td>\n",
       "      <td>0</td>\n",
       "      <td>False</td>\n",
       "    </tr>\n",
       "    <tr>\n",
       "      <th>2</th>\n",
       "      <td>100004</td>\n",
       "      <td>0</td>\n",
       "      <td>0</td>\n",
       "      <td>67500.0</td>\n",
       "      <td>135000.0</td>\n",
       "      <td>6750.0</td>\n",
       "      <td>135000.0</td>\n",
       "      <td>0.010032</td>\n",
       "      <td>-19046</td>\n",
       "      <td>225.0</td>\n",
       "      <td>...</td>\n",
       "      <td>0</td>\n",
       "      <td>0</td>\n",
       "      <td>0</td>\n",
       "      <td>0</td>\n",
       "      <td>0</td>\n",
       "      <td>0</td>\n",
       "      <td>0</td>\n",
       "      <td>0</td>\n",
       "      <td>0</td>\n",
       "      <td>False</td>\n",
       "    </tr>\n",
       "    <tr>\n",
       "      <th>3</th>\n",
       "      <td>100006</td>\n",
       "      <td>0</td>\n",
       "      <td>0</td>\n",
       "      <td>135000.0</td>\n",
       "      <td>312682.5</td>\n",
       "      <td>29686.5</td>\n",
       "      <td>297000.0</td>\n",
       "      <td>0.008019</td>\n",
       "      <td>-19005</td>\n",
       "      <td>3039.0</td>\n",
       "      <td>...</td>\n",
       "      <td>0</td>\n",
       "      <td>0</td>\n",
       "      <td>0</td>\n",
       "      <td>0</td>\n",
       "      <td>0</td>\n",
       "      <td>0</td>\n",
       "      <td>0</td>\n",
       "      <td>0</td>\n",
       "      <td>0</td>\n",
       "      <td>False</td>\n",
       "    </tr>\n",
       "    <tr>\n",
       "      <th>4</th>\n",
       "      <td>100007</td>\n",
       "      <td>0</td>\n",
       "      <td>0</td>\n",
       "      <td>121500.0</td>\n",
       "      <td>513000.0</td>\n",
       "      <td>21865.5</td>\n",
       "      <td>513000.0</td>\n",
       "      <td>0.028663</td>\n",
       "      <td>-19932</td>\n",
       "      <td>3038.0</td>\n",
       "      <td>...</td>\n",
       "      <td>0</td>\n",
       "      <td>0</td>\n",
       "      <td>0</td>\n",
       "      <td>0</td>\n",
       "      <td>0</td>\n",
       "      <td>0</td>\n",
       "      <td>0</td>\n",
       "      <td>0</td>\n",
       "      <td>0</td>\n",
       "      <td>False</td>\n",
       "    </tr>\n",
       "  </tbody>\n",
       "</table>\n",
       "<p>5 rows × 247 columns</p>\n",
       "</div>"
      ],
      "text/plain": [
       "   SK_ID_CURR  TARGET  CNT_CHILDREN  AMT_INCOME_TOTAL  AMT_CREDIT  \\\n",
       "0      100002       1             0          202500.0    406597.5   \n",
       "1      100003       0             0          270000.0   1293502.5   \n",
       "2      100004       0             0           67500.0    135000.0   \n",
       "3      100006       0             0          135000.0    312682.5   \n",
       "4      100007       0             0          121500.0    513000.0   \n",
       "\n",
       "   AMT_ANNUITY  AMT_GOODS_PRICE  REGION_POPULATION_RELATIVE  DAYS_BIRTH  \\\n",
       "0      24700.5         351000.0                    0.018801       -9461   \n",
       "1      35698.5        1129500.0                    0.003541      -16765   \n",
       "2       6750.0         135000.0                    0.010032      -19046   \n",
       "3      29686.5         297000.0                    0.008019      -19005   \n",
       "4      21865.5         513000.0                    0.028663      -19932   \n",
       "\n",
       "   DAYS_EMPLOYED  ...  WALLSMATERIAL_MODE_Block  WALLSMATERIAL_MODE_Mixed  \\\n",
       "0          637.0  ...                         0                         0   \n",
       "1         1188.0  ...                         1                         0   \n",
       "2          225.0  ...                         0                         0   \n",
       "3         3039.0  ...                         0                         0   \n",
       "4         3038.0  ...                         0                         0   \n",
       "\n",
       "   WALLSMATERIAL_MODE_Monolithic  WALLSMATERIAL_MODE_Others  \\\n",
       "0                              0                          0   \n",
       "1                              0                          0   \n",
       "2                              0                          0   \n",
       "3                              0                          0   \n",
       "4                              0                          0   \n",
       "\n",
       "   WALLSMATERIAL_MODE_Panel  WALLSMATERIAL_MODE_Stone, brick  \\\n",
       "0                         0                                1   \n",
       "1                         0                                0   \n",
       "2                         0                                0   \n",
       "3                         0                                0   \n",
       "4                         0                                0   \n",
       "\n",
       "   WALLSMATERIAL_MODE_Wooden  EMERGENCYSTATE_MODE_No  EMERGENCYSTATE_MODE_Yes  \\\n",
       "0                          0                       1                        0   \n",
       "1                          0                       1                        0   \n",
       "2                          0                       0                        0   \n",
       "3                          0                       0                        0   \n",
       "4                          0                       0                        0   \n",
       "\n",
       "   DAYS_EMPLOYED_ANOM  \n",
       "0               False  \n",
       "1               False  \n",
       "2               False  \n",
       "3               False  \n",
       "4               False  \n",
       "\n",
       "[5 rows x 247 columns]"
      ]
     },
     "execution_count": 2,
     "metadata": {},
     "output_type": "execute_result"
    }
   ],
   "source": [
    "app_train = pd.read_csv('app_train.csv', index_col=0)\n",
    "print(app_train.shape)\n",
    "app_train.head()"
   ]
  },
  {
   "cell_type": "markdown",
   "id": "close-penalty",
   "metadata": {},
   "source": [
    "#### Add domain features"
   ]
  },
  {
   "cell_type": "code",
   "execution_count": 3,
   "id": "original-group",
   "metadata": {
    "ExecuteTime": {
     "end_time": "2021-05-14T14:51:23.514402Z",
     "start_time": "2021-05-14T14:51:23.454375Z"
    }
   },
   "outputs": [
    {
     "name": "stdout",
     "output_type": "stream",
     "text": [
      "(307511, 251)\n"
     ]
    },
    {
     "data": {
      "text/html": [
       "<div>\n",
       "<style scoped>\n",
       "    .dataframe tbody tr th:only-of-type {\n",
       "        vertical-align: middle;\n",
       "    }\n",
       "\n",
       "    .dataframe tbody tr th {\n",
       "        vertical-align: top;\n",
       "    }\n",
       "\n",
       "    .dataframe thead th {\n",
       "        text-align: right;\n",
       "    }\n",
       "</style>\n",
       "<table border=\"1\" class=\"dataframe\">\n",
       "  <thead>\n",
       "    <tr style=\"text-align: right;\">\n",
       "      <th></th>\n",
       "      <th>SK_ID_CURR</th>\n",
       "      <th>TARGET</th>\n",
       "      <th>CNT_CHILDREN</th>\n",
       "      <th>AMT_INCOME_TOTAL</th>\n",
       "      <th>AMT_CREDIT</th>\n",
       "      <th>AMT_ANNUITY</th>\n",
       "      <th>AMT_GOODS_PRICE</th>\n",
       "      <th>REGION_POPULATION_RELATIVE</th>\n",
       "      <th>DAYS_BIRTH</th>\n",
       "      <th>DAYS_EMPLOYED</th>\n",
       "      <th>...</th>\n",
       "      <th>WALLSMATERIAL_MODE_Panel</th>\n",
       "      <th>WALLSMATERIAL_MODE_Stone, brick</th>\n",
       "      <th>WALLSMATERIAL_MODE_Wooden</th>\n",
       "      <th>EMERGENCYSTATE_MODE_No</th>\n",
       "      <th>EMERGENCYSTATE_MODE_Yes</th>\n",
       "      <th>DAYS_EMPLOYED_ANOM</th>\n",
       "      <th>CREDIT_INCOME_PERCENT</th>\n",
       "      <th>ANNUITY_INCOME_PERCENT</th>\n",
       "      <th>CREDIT_TERM</th>\n",
       "      <th>DAYS_EMPLOYED_PERCENT</th>\n",
       "    </tr>\n",
       "  </thead>\n",
       "  <tbody>\n",
       "    <tr>\n",
       "      <th>0</th>\n",
       "      <td>100002</td>\n",
       "      <td>1</td>\n",
       "      <td>0</td>\n",
       "      <td>202500.0</td>\n",
       "      <td>406597.5</td>\n",
       "      <td>24700.5</td>\n",
       "      <td>351000.0</td>\n",
       "      <td>0.018801</td>\n",
       "      <td>-9461</td>\n",
       "      <td>637.0</td>\n",
       "      <td>...</td>\n",
       "      <td>0</td>\n",
       "      <td>1</td>\n",
       "      <td>0</td>\n",
       "      <td>1</td>\n",
       "      <td>0</td>\n",
       "      <td>False</td>\n",
       "      <td>2.007889</td>\n",
       "      <td>0.121978</td>\n",
       "      <td>0.060749</td>\n",
       "      <td>-0.067329</td>\n",
       "    </tr>\n",
       "    <tr>\n",
       "      <th>1</th>\n",
       "      <td>100003</td>\n",
       "      <td>0</td>\n",
       "      <td>0</td>\n",
       "      <td>270000.0</td>\n",
       "      <td>1293502.5</td>\n",
       "      <td>35698.5</td>\n",
       "      <td>1129500.0</td>\n",
       "      <td>0.003541</td>\n",
       "      <td>-16765</td>\n",
       "      <td>1188.0</td>\n",
       "      <td>...</td>\n",
       "      <td>0</td>\n",
       "      <td>0</td>\n",
       "      <td>0</td>\n",
       "      <td>1</td>\n",
       "      <td>0</td>\n",
       "      <td>False</td>\n",
       "      <td>4.790750</td>\n",
       "      <td>0.132217</td>\n",
       "      <td>0.027598</td>\n",
       "      <td>-0.070862</td>\n",
       "    </tr>\n",
       "    <tr>\n",
       "      <th>2</th>\n",
       "      <td>100004</td>\n",
       "      <td>0</td>\n",
       "      <td>0</td>\n",
       "      <td>67500.0</td>\n",
       "      <td>135000.0</td>\n",
       "      <td>6750.0</td>\n",
       "      <td>135000.0</td>\n",
       "      <td>0.010032</td>\n",
       "      <td>-19046</td>\n",
       "      <td>225.0</td>\n",
       "      <td>...</td>\n",
       "      <td>0</td>\n",
       "      <td>0</td>\n",
       "      <td>0</td>\n",
       "      <td>0</td>\n",
       "      <td>0</td>\n",
       "      <td>False</td>\n",
       "      <td>2.000000</td>\n",
       "      <td>0.100000</td>\n",
       "      <td>0.050000</td>\n",
       "      <td>-0.011814</td>\n",
       "    </tr>\n",
       "    <tr>\n",
       "      <th>3</th>\n",
       "      <td>100006</td>\n",
       "      <td>0</td>\n",
       "      <td>0</td>\n",
       "      <td>135000.0</td>\n",
       "      <td>312682.5</td>\n",
       "      <td>29686.5</td>\n",
       "      <td>297000.0</td>\n",
       "      <td>0.008019</td>\n",
       "      <td>-19005</td>\n",
       "      <td>3039.0</td>\n",
       "      <td>...</td>\n",
       "      <td>0</td>\n",
       "      <td>0</td>\n",
       "      <td>0</td>\n",
       "      <td>0</td>\n",
       "      <td>0</td>\n",
       "      <td>False</td>\n",
       "      <td>2.316167</td>\n",
       "      <td>0.219900</td>\n",
       "      <td>0.094941</td>\n",
       "      <td>-0.159905</td>\n",
       "    </tr>\n",
       "    <tr>\n",
       "      <th>4</th>\n",
       "      <td>100007</td>\n",
       "      <td>0</td>\n",
       "      <td>0</td>\n",
       "      <td>121500.0</td>\n",
       "      <td>513000.0</td>\n",
       "      <td>21865.5</td>\n",
       "      <td>513000.0</td>\n",
       "      <td>0.028663</td>\n",
       "      <td>-19932</td>\n",
       "      <td>3038.0</td>\n",
       "      <td>...</td>\n",
       "      <td>0</td>\n",
       "      <td>0</td>\n",
       "      <td>0</td>\n",
       "      <td>0</td>\n",
       "      <td>0</td>\n",
       "      <td>False</td>\n",
       "      <td>4.222222</td>\n",
       "      <td>0.179963</td>\n",
       "      <td>0.042623</td>\n",
       "      <td>-0.152418</td>\n",
       "    </tr>\n",
       "  </tbody>\n",
       "</table>\n",
       "<p>5 rows × 251 columns</p>\n",
       "</div>"
      ],
      "text/plain": [
       "   SK_ID_CURR  TARGET  CNT_CHILDREN  AMT_INCOME_TOTAL  AMT_CREDIT  \\\n",
       "0      100002       1             0          202500.0    406597.5   \n",
       "1      100003       0             0          270000.0   1293502.5   \n",
       "2      100004       0             0           67500.0    135000.0   \n",
       "3      100006       0             0          135000.0    312682.5   \n",
       "4      100007       0             0          121500.0    513000.0   \n",
       "\n",
       "   AMT_ANNUITY  AMT_GOODS_PRICE  REGION_POPULATION_RELATIVE  DAYS_BIRTH  \\\n",
       "0      24700.5         351000.0                    0.018801       -9461   \n",
       "1      35698.5        1129500.0                    0.003541      -16765   \n",
       "2       6750.0         135000.0                    0.010032      -19046   \n",
       "3      29686.5         297000.0                    0.008019      -19005   \n",
       "4      21865.5         513000.0                    0.028663      -19932   \n",
       "\n",
       "   DAYS_EMPLOYED  ...  WALLSMATERIAL_MODE_Panel  \\\n",
       "0          637.0  ...                         0   \n",
       "1         1188.0  ...                         0   \n",
       "2          225.0  ...                         0   \n",
       "3         3039.0  ...                         0   \n",
       "4         3038.0  ...                         0   \n",
       "\n",
       "   WALLSMATERIAL_MODE_Stone, brick  WALLSMATERIAL_MODE_Wooden  \\\n",
       "0                                1                          0   \n",
       "1                                0                          0   \n",
       "2                                0                          0   \n",
       "3                                0                          0   \n",
       "4                                0                          0   \n",
       "\n",
       "   EMERGENCYSTATE_MODE_No  EMERGENCYSTATE_MODE_Yes  DAYS_EMPLOYED_ANOM  \\\n",
       "0                       1                        0               False   \n",
       "1                       1                        0               False   \n",
       "2                       0                        0               False   \n",
       "3                       0                        0               False   \n",
       "4                       0                        0               False   \n",
       "\n",
       "   CREDIT_INCOME_PERCENT  ANNUITY_INCOME_PERCENT  CREDIT_TERM  \\\n",
       "0               2.007889                0.121978     0.060749   \n",
       "1               4.790750                0.132217     0.027598   \n",
       "2               2.000000                0.100000     0.050000   \n",
       "3               2.316167                0.219900     0.094941   \n",
       "4               4.222222                0.179963     0.042623   \n",
       "\n",
       "   DAYS_EMPLOYED_PERCENT  \n",
       "0              -0.067329  \n",
       "1              -0.070862  \n",
       "2              -0.011814  \n",
       "3              -0.159905  \n",
       "4              -0.152418  \n",
       "\n",
       "[5 rows x 251 columns]"
      ]
     },
     "execution_count": 3,
     "metadata": {},
     "output_type": "execute_result"
    }
   ],
   "source": [
    "app_train['CREDIT_INCOME_PERCENT'] = app_train['AMT_CREDIT'] / app_train['AMT_INCOME_TOTAL']\n",
    "app_train['ANNUITY_INCOME_PERCENT'] = app_train['AMT_ANNUITY'] / app_train['AMT_INCOME_TOTAL']\n",
    "app_train['CREDIT_TERM'] = app_train['AMT_ANNUITY'] / app_train['AMT_CREDIT']\n",
    "app_train['DAYS_EMPLOYED_PERCENT'] = app_train['DAYS_EMPLOYED'] / app_train['DAYS_BIRTH']\n",
    "print(app_train.shape)\n",
    "app_train.head()"
   ]
  },
  {
   "cell_type": "code",
   "execution_count": 4,
   "id": "amber-positive",
   "metadata": {
    "ExecuteTime": {
     "end_time": "2021-05-14T14:51:24.318400Z",
     "start_time": "2021-05-14T14:51:23.514402Z"
    }
   },
   "outputs": [
    {
     "name": "stdout",
     "output_type": "stream",
     "text": [
      "X_train shape:  (246008, 250)\n",
      "X_test shape:  (61503, 250)\n",
      "y_train shape:  (246008,)\n",
      "y_test shape:  (61503,)\n"
     ]
    }
   ],
   "source": [
    "X = app_train.drop(columns=['TARGET'])\n",
    "y = app_train.TARGET\n",
    "X_train, X_test, y_train, y_test = train_test_split(X, y, test_size=0.2, random_state=42)\n",
    "print('X_train shape: ', X_train.shape)\n",
    "print('X_test shape: ', X_test.shape)\n",
    "print('y_train shape: ', y_train.shape)\n",
    "print('y_test shape: ', y_test.shape)"
   ]
  },
  {
   "cell_type": "markdown",
   "id": "dramatic-retrieval",
   "metadata": {},
   "source": [
    "#### Add polynomial features"
   ]
  },
  {
   "cell_type": "code",
   "execution_count": 5,
   "id": "usual-nursing",
   "metadata": {
    "ExecuteTime": {
     "end_time": "2021-05-14T14:51:24.383541Z",
     "start_time": "2021-05-14T14:51:24.318400Z"
    }
   },
   "outputs": [],
   "source": [
    "# Make a new dataframe for polynomial features\n",
    "poly_features = X_train[['EXT_SOURCE_1', 'EXT_SOURCE_2', 'EXT_SOURCE_3', 'DAYS_BIRTH']]\n",
    "poly_features_test = X_test[['EXT_SOURCE_1', 'EXT_SOURCE_2', 'EXT_SOURCE_3', 'DAYS_BIRTH']]\n",
    "\n",
    "# imputer for handling missing values\n",
    "imputer = SimpleImputer(strategy='mean')\n",
    "\n",
    "# Need to impute missing values\n",
    "poly_features = imputer.fit_transform(poly_features)\n",
    "poly_features_test = imputer.transform(poly_features_test)\n",
    "\n",
    "                                  \n",
    "# Create the polynomial object with specified degree\n",
    "poly_transformer = PolynomialFeatures(degree = 3)"
   ]
  },
  {
   "cell_type": "code",
   "execution_count": 6,
   "id": "mighty-statement",
   "metadata": {
    "ExecuteTime": {
     "end_time": "2021-05-14T14:51:24.495525Z",
     "start_time": "2021-05-14T14:51:24.383541Z"
    }
   },
   "outputs": [
    {
     "name": "stdout",
     "output_type": "stream",
     "text": [
      "Polynomial Features shape:  (246008, 35)\n"
     ]
    }
   ],
   "source": [
    "poly_transformer.fit(poly_features)\n",
    "\n",
    "poly_features = poly_transformer.transform(poly_features)\n",
    "poly_features_test = poly_transformer.transform(poly_features_test)\n",
    "\n",
    "print('Polynomial Features shape: ', poly_features.shape)"
   ]
  },
  {
   "cell_type": "code",
   "execution_count": 7,
   "id": "interstate-collaboration",
   "metadata": {
    "ExecuteTime": {
     "end_time": "2021-05-14T14:51:24.511522Z",
     "start_time": "2021-05-14T14:51:24.495525Z"
    }
   },
   "outputs": [
    {
     "data": {
      "text/plain": [
       "['1',\n",
       " 'EXT_SOURCE_1',\n",
       " 'EXT_SOURCE_2',\n",
       " 'EXT_SOURCE_3',\n",
       " 'DAYS_BIRTH',\n",
       " 'EXT_SOURCE_1^2',\n",
       " 'EXT_SOURCE_1 EXT_SOURCE_2',\n",
       " 'EXT_SOURCE_1 EXT_SOURCE_3',\n",
       " 'EXT_SOURCE_1 DAYS_BIRTH',\n",
       " 'EXT_SOURCE_2^2',\n",
       " 'EXT_SOURCE_2 EXT_SOURCE_3',\n",
       " 'EXT_SOURCE_2 DAYS_BIRTH',\n",
       " 'EXT_SOURCE_3^2',\n",
       " 'EXT_SOURCE_3 DAYS_BIRTH',\n",
       " 'DAYS_BIRTH^2',\n",
       " 'EXT_SOURCE_1^3',\n",
       " 'EXT_SOURCE_1^2 EXT_SOURCE_2',\n",
       " 'EXT_SOURCE_1^2 EXT_SOURCE_3',\n",
       " 'EXT_SOURCE_1^2 DAYS_BIRTH',\n",
       " 'EXT_SOURCE_1 EXT_SOURCE_2^2',\n",
       " 'EXT_SOURCE_1 EXT_SOURCE_2 EXT_SOURCE_3',\n",
       " 'EXT_SOURCE_1 EXT_SOURCE_2 DAYS_BIRTH',\n",
       " 'EXT_SOURCE_1 EXT_SOURCE_3^2',\n",
       " 'EXT_SOURCE_1 EXT_SOURCE_3 DAYS_BIRTH',\n",
       " 'EXT_SOURCE_1 DAYS_BIRTH^2',\n",
       " 'EXT_SOURCE_2^3',\n",
       " 'EXT_SOURCE_2^2 EXT_SOURCE_3',\n",
       " 'EXT_SOURCE_2^2 DAYS_BIRTH',\n",
       " 'EXT_SOURCE_2 EXT_SOURCE_3^2',\n",
       " 'EXT_SOURCE_2 EXT_SOURCE_3 DAYS_BIRTH',\n",
       " 'EXT_SOURCE_2 DAYS_BIRTH^2',\n",
       " 'EXT_SOURCE_3^3',\n",
       " 'EXT_SOURCE_3^2 DAYS_BIRTH',\n",
       " 'EXT_SOURCE_3 DAYS_BIRTH^2',\n",
       " 'DAYS_BIRTH^3']"
      ]
     },
     "execution_count": 7,
     "metadata": {},
     "output_type": "execute_result"
    }
   ],
   "source": [
    "poly_transformer.get_feature_names(input_features = ['EXT_SOURCE_1', 'EXT_SOURCE_2', 'EXT_SOURCE_3', 'DAYS_BIRTH'])"
   ]
  },
  {
   "cell_type": "code",
   "execution_count": 8,
   "id": "alert-metropolitan",
   "metadata": {
    "ExecuteTime": {
     "end_time": "2021-05-14T14:51:25.447554Z",
     "start_time": "2021-05-14T14:51:24.515521Z"
    }
   },
   "outputs": [
    {
     "name": "stdout",
     "output_type": "stream",
     "text": [
      "EXT_SOURCE_2 EXT_SOURCE_3     -0.004388\n",
      "EXT_SOURCE_2^2 EXT_SOURCE_3   -0.004284\n",
      "EXT_SOURCE_2 EXT_SOURCE_3^2   -0.004011\n",
      "EXT_SOURCE_2^3                -0.003426\n",
      "EXT_SOURCE_2^2                -0.003352\n",
      "EXT_SOURCE_3                  -0.003241\n",
      "DAYS_BIRTH^3                  -0.003135\n",
      "EXT_SOURCE_2                  -0.003093\n",
      "EXT_SOURCE_3^2                -0.002981\n",
      "DAYS_BIRTH                    -0.002777\n",
      "Name: TARGET, dtype: float64\n",
      "EXT_SOURCE_2 EXT_SOURCE_3 DAYS_BIRTH    0.001909\n",
      "EXT_SOURCE_1 DAYS_BIRTH^2               0.002639\n",
      "DAYS_BIRTH^2                            0.003023\n",
      "TARGET                                  1.000000\n",
      "1                                            NaN\n",
      "Name: TARGET, dtype: float64\n"
     ]
    }
   ],
   "source": [
    "# Create a dataframe of the features \n",
    "poly_features = pd.DataFrame(poly_features, \n",
    "                             columns = poly_transformer.get_feature_names(['EXT_SOURCE_1', 'EXT_SOURCE_2', \n",
    "                                                                           'EXT_SOURCE_3', 'DAYS_BIRTH']))\n",
    "\n",
    "# Add in the target\n",
    "poly_features['TARGET'] = y_train\n",
    "\n",
    "# Find the correlations with the target\n",
    "poly_corrs = poly_features.corr()['TARGET'].sort_values()\n",
    "\n",
    "# Display most negative and most positive\n",
    "print(poly_corrs.head(10))\n",
    "print(poly_corrs.tail(5))"
   ]
  },
  {
   "cell_type": "code",
   "execution_count": 9,
   "id": "younger-decision",
   "metadata": {
    "ExecuteTime": {
     "end_time": "2021-05-14T14:51:27.871516Z",
     "start_time": "2021-05-14T14:51:25.451520Z"
    }
   },
   "outputs": [
    {
     "name": "stdout",
     "output_type": "stream",
     "text": [
      "Training data with polynomial features shape:  (246008, 285)\n",
      "Testing data with polynomial features shape:   (61503, 285)\n"
     ]
    }
   ],
   "source": [
    "# Put test features into dataframe\n",
    "poly_features_test = pd.DataFrame(poly_features_test, \n",
    "                                  columns = poly_transformer.get_feature_names(['EXT_SOURCE_1', 'EXT_SOURCE_2', \n",
    "                                                                                'EXT_SOURCE_3', 'DAYS_BIRTH']))\n",
    "\n",
    "# Merge polynomial features into training dataframe\n",
    "poly_features['SK_ID_CURR'] = X_train['SK_ID_CURR']\n",
    "X_train_poly = X_train.merge(poly_features, on = 'SK_ID_CURR', how = 'left')\n",
    "\n",
    "# Merge polnomial features into testing dataframe\n",
    "poly_features_test['SK_ID_CURR'] = X_test['SK_ID_CURR']\n",
    "X_test_poly = X_test.merge(poly_features_test, on = 'SK_ID_CURR', how = 'left')\n",
    "\n",
    "# Align the dataframes\n",
    "X_train_poly, X_test_poly = X_train_poly.align(X_test_poly, join = 'inner', axis = 1)\n",
    "\n",
    "# Print out the new shapes\n",
    "print('Training data with polynomial features shape: ', X_train_poly.shape)\n",
    "print('Testing data with polynomial features shape:  ', X_test_poly.shape)"
   ]
  },
  {
   "cell_type": "code",
   "execution_count": null,
   "id": "verified-howard",
   "metadata": {},
   "outputs": [],
   "source": []
  },
  {
   "cell_type": "markdown",
   "id": "stainless-victory",
   "metadata": {},
   "source": [
    "#### Imputting missing data and scale the data"
   ]
  },
  {
   "cell_type": "code",
   "execution_count": 10,
   "id": "received-vessel",
   "metadata": {
    "ExecuteTime": {
     "end_time": "2021-05-14T14:51:46.219979Z",
     "start_time": "2021-05-14T14:51:27.871516Z"
    }
   },
   "outputs": [
    {
     "name": "stdout",
     "output_type": "stream",
     "text": [
      "X_train shape:  (246008, 285)\n",
      "X_test shape:  (61503, 285)\n"
     ]
    }
   ],
   "source": [
    "#features columns\n",
    "features = list(X_train_poly.columns)\n",
    "\n",
    "#test set\n",
    "\n",
    "#SimpleImputer wirth strategy = median\n",
    "imputer = SimpleImputer(strategy='median')\n",
    "\n",
    "#Scale the features\n",
    "scaler = StandardScaler()\n",
    "\n",
    "#Fit on the training data\n",
    "\n",
    "#Imputer\n",
    "imputer.fit(X_train_poly)\n",
    "X_train_poly = imputer.transform(X_train_poly)\n",
    "X_test_poly = imputer.transform(X_test_poly)\n",
    "\n",
    "#Scaler\n",
    "scaler.fit(X_train_poly)\n",
    "X_train_poly = scaler.transform(X_train_poly)\n",
    "X_test_poly = scaler.transform(X_test_poly)\n",
    "\n",
    "print('X_train shape: ', X_train_poly.shape)\n",
    "print('X_test shape: ', X_test_poly.shape)"
   ]
  },
  {
   "cell_type": "code",
   "execution_count": 11,
   "id": "shaped-governor",
   "metadata": {
    "ExecuteTime": {
     "end_time": "2021-05-14T14:51:46.235980Z",
     "start_time": "2021-05-14T14:51:46.219979Z"
    }
   },
   "outputs": [],
   "source": [
    "#Set up ratio\n",
    "n_pos = np.sum(y_train==1)\n",
    "n_neg = np.sum(y_train==0)\n",
    "ratio = n_neg/n_pos\n"
   ]
  },
  {
   "cell_type": "code",
   "execution_count": 12,
   "id": "touched-cliff",
   "metadata": {
    "ExecuteTime": {
     "end_time": "2021-05-14T14:51:46.251984Z",
     "start_time": "2021-05-14T14:51:46.239953Z"
    }
   },
   "outputs": [
    {
     "data": {
      "text/plain": [
       "11.377138257194607"
      ]
     },
     "execution_count": 12,
     "metadata": {},
     "output_type": "execute_result"
    }
   ],
   "source": [
    "ratio"
   ]
  },
  {
   "cell_type": "markdown",
   "id": "demonstrated-least",
   "metadata": {},
   "source": [
    "---"
   ]
  },
  {
   "cell_type": "markdown",
   "id": "accompanied-lyric",
   "metadata": {},
   "source": [
    "### XGBoost"
   ]
  },
  {
   "cell_type": "code",
   "execution_count": 13,
   "id": "broadband-ribbon",
   "metadata": {
    "ExecuteTime": {
     "end_time": "2021-05-14T14:52:44.100245Z",
     "start_time": "2021-05-14T14:51:46.255952Z"
    }
   },
   "outputs": [
    {
     "data": {
      "text/plain": [
       "XGBClassifier(base_score=0.5, booster='gbtree', colsample_bylevel=1,\n",
       "              colsample_bynode=1, colsample_bytree=1, eval_metric='auc',\n",
       "              gamma=0.382, gpu_id=-1, importance_type='gain',\n",
       "              interaction_constraints='', learning_rate=0.277, max_delta_step=0,\n",
       "              max_depth=4, min_child_weight=1, missing=nan,\n",
       "              monotone_constraints='()', n_estimators=100, n_jobs=0,\n",
       "              num_parallel_tree=1, random_state=42, reg_alpha=0, reg_lambda=1,\n",
       "              scale_pos_weight=11.377138257194607, subsample=1,\n",
       "              tree_method='exact', validate_parameters=1, verbosity=None)"
      ]
     },
     "execution_count": 13,
     "metadata": {},
     "output_type": "execute_result"
    }
   ],
   "source": [
    "import xgboost as xgb\n",
    "xgb_model = xgb.XGBClassifier(objective=\"binary:logistic\", random_state=42, \n",
    "                              eval_metric=\"auc\", max_depth=4,learning_rate=0.277, gamma=0.382, scale_pos_weight=ratio)\n",
    "xgb_model.fit(X_train_poly, y_train)"
   ]
  },
  {
   "cell_type": "code",
   "execution_count": 14,
   "id": "urban-plenty",
   "metadata": {
    "ExecuteTime": {
     "end_time": "2021-05-14T14:52:48.228238Z",
     "start_time": "2021-05-14T14:52:44.100245Z"
    }
   },
   "outputs": [
    {
     "name": "stdout",
     "output_type": "stream",
     "text": [
      "ROC AUC score on train set:  0.8035458472844906\n",
      "F1 score on train set:  0.2988250531964104\n",
      "--------------------------------\n",
      "ROC AUC score on test set:  0.7639228615808109\n",
      "F1 score on test set:  0.2754500818330606\n"
     ]
    }
   ],
   "source": [
    "#Train set\n",
    "print('ROC AUC score on train set: ', roc_auc_score(y_train, xgb_model.predict_proba(X_train_poly)[:,1]))\n",
    "print('F1 score on train set: ', f1_score(y_train, xgb_model.predict(X_train_poly)))\n",
    "\n",
    "print('--------------------------------')\n",
    "#Test sets\n",
    "print('ROC AUC score on test set: ', roc_auc_score(y_test, xgb_model.predict_proba(X_test_poly)[:,1]))\n",
    "print('F1 score on test set: ', f1_score(y_test, xgb_model.predict(X_test_poly)))"
   ]
  },
  {
   "cell_type": "code",
   "execution_count": 15,
   "id": "labeled-rabbit",
   "metadata": {
    "ExecuteTime": {
     "end_time": "2021-05-14T14:53:44.456150Z",
     "start_time": "2021-05-14T14:52:48.228238Z"
    }
   },
   "outputs": [
    {
     "name": "stdout",
     "output_type": "stream",
     "text": [
      "ROC AUC score on train set:  0.8054839607346811\n",
      "F1 score on train set:  0.34647852354547715\n",
      "--------------------------------\n",
      "ROC AUC score on test set:  0.7670394172199109\n",
      "F1 score on test set:  0.3101108720834023\n"
     ]
    }
   ],
   "source": [
    "#weight = 5:1\n",
    "xgb_model = xgb.XGBClassifier(objective=\"binary:logistic\", random_state=42, \n",
    "                              eval_metric=\"auc\", max_depth=4,learning_rate=0.277, gamma=0.382, scale_pos_weight=5)\n",
    "xgb_model.fit(X_train_poly, y_train)\n",
    "\n",
    "#Train set\n",
    "print('ROC AUC score on train set: ', roc_auc_score(y_train, xgb_model.predict_proba(X_train_poly)[:,1]))\n",
    "print('F1 score on train set: ', f1_score(y_train, xgb_model.predict(X_train_poly)))\n",
    "\n",
    "print('--------------------------------')\n",
    "#Test sets\n",
    "print('ROC AUC score on test set: ', roc_auc_score(y_test, xgb_model.predict_proba(X_test_poly)[:,1]))\n",
    "print('F1 score on test set: ', f1_score(y_test, xgb_model.predict(X_test_poly)))"
   ]
  },
  {
   "cell_type": "markdown",
   "id": "numeric-cement",
   "metadata": {
    "ExecuteTime": {
     "end_time": "2021-05-11T16:13:23.277635Z",
     "start_time": "2021-05-11T16:13:22.712579Z"
    }
   },
   "source": [
    "It works better than the scale of `ratio`"
   ]
  },
  {
   "cell_type": "code",
   "execution_count": 16,
   "id": "geological-revelation",
   "metadata": {
    "ExecuteTime": {
     "end_time": "2021-05-14T14:56:37.128684Z",
     "start_time": "2021-05-14T14:53:44.456150Z"
    }
   },
   "outputs": [
    {
     "name": "stdout",
     "output_type": "stream",
     "text": [
      "The best number of tree:  374\n",
      "F2 score on the test set:  0.42464228503163104\n",
      "ROC AUC score on the test set:  0.7668860689318563\n"
     ]
    }
   ],
   "source": [
    "gbm = xgb.XGBClassifier( \n",
    "                        n_estimators=30000,\n",
    "                        max_depth=3,\n",
    "                        objective='binary:logistic', #new objective\n",
    "                        learning_rate=.15, \n",
    "                        subsample=.7,\n",
    "                        min_child_weight=3,\n",
    "                        colsample_bytree=.8,\n",
    "                        gamma=0.382,\n",
    "                        scale_pos_weight=10\n",
    "                       )\n",
    "\n",
    "eval_set=[(X_train_poly,y_train),(X_test_poly,y_test)]\n",
    "fit_model = gbm.fit( \n",
    "                    X_train_poly, y_train, \n",
    "                    eval_set=eval_set,\n",
    "                    eval_metric='auc', #new evaluation metric: classification error (could also use AUC, e.g.)\n",
    "                    early_stopping_rounds=50,\n",
    "                    verbose=False\n",
    "                   )\n",
    "\n",
    "print('The best number of tree: ', gbm.best_ntree_limit)\n",
    "print('F2 score on the test set: ', fbeta_score(y_test, gbm.predict(X_test_poly, ntree_limit=gbm.best_ntree_limit), 2))\n",
    "print('ROC AUC score on the test set: ', roc_auc_score(y_test, gbm.predict_proba(X_test_poly, ntree_limit=gbm.best_ntree_limit)[:, 1]))"
   ]
  },
  {
   "cell_type": "code",
   "execution_count": 17,
   "id": "compliant-document",
   "metadata": {
    "ExecuteTime": {
     "end_time": "2021-05-14T14:59:25.669392Z",
     "start_time": "2021-05-14T14:56:37.130679Z"
    }
   },
   "outputs": [
    {
     "name": "stdout",
     "output_type": "stream",
     "text": [
      "The best number of tree:  324\n",
      "F2 score on the test set:  0.42813102119460494\n",
      "ROC AUC score on the test set:  0.7656377559863301\n"
     ]
    }
   ],
   "source": [
    "gbm = xgb.XGBClassifier( \n",
    "                        n_estimators=30000,\n",
    "                        max_depth=3,\n",
    "                        objective='binary:logistic', #new objective\n",
    "                        learning_rate=.15, \n",
    "                        subsample=.7,\n",
    "                        min_child_weight=3,\n",
    "                        colsample_bytree=.8,\n",
    "                        gamma=0.382,\n",
    "                        scale_pos_weight=11\n",
    "                       )\n",
    "\n",
    "eval_set=[(X_train_poly,y_train),(X_test_poly,y_test)]\n",
    "fit_model = gbm.fit( \n",
    "                    X_train_poly, y_train, \n",
    "                    eval_set=eval_set,\n",
    "                    eval_metric='auc', #new evaluation metric: classification error (could also use AUC, e.g.)\n",
    "                    early_stopping_rounds=50,\n",
    "                    verbose=False\n",
    "                   )\n",
    "\n",
    "print('The best number of tree: ', gbm.best_ntree_limit)\n",
    "print('F2 score on the test set: ', fbeta_score(y_test, gbm.predict(X_test_poly, ntree_limit=gbm.best_ntree_limit), 2))\n",
    "print('ROC AUC score on the test set: ', roc_auc_score(y_test, gbm.predict_proba(X_test_poly, ntree_limit=gbm.best_ntree_limit)[:, 1]))"
   ]
  },
  {
   "cell_type": "code",
   "execution_count": 18,
   "id": "informative-shark",
   "metadata": {
    "ExecuteTime": {
     "end_time": "2021-05-14T15:02:24.575139Z",
     "start_time": "2021-05-14T14:59:25.671388Z"
    }
   },
   "outputs": [
    {
     "name": "stdout",
     "output_type": "stream",
     "text": [
      "The best number of tree:  315\n",
      "F2 score on the test set:  0.4290675241157557\n",
      "ROC AUC score on the test set:  0.7671680054046054\n"
     ]
    }
   ],
   "source": [
    "gbm = xgb.XGBClassifier( \n",
    "                        n_estimators=30000,\n",
    "                        max_depth=3,\n",
    "                        objective='binary:logistic', #new objective\n",
    "                        learning_rate=.17, \n",
    "                        subsample=.7,\n",
    "                        min_child_weight=3,\n",
    "                        colsample_bytree=.8,\n",
    "                        gamma=0.382,\n",
    "                        scale_pos_weight=11\n",
    "                       )\n",
    "\n",
    "eval_set=[(X_train_poly,y_train),(X_test_poly,y_test)]\n",
    "fit_model = gbm.fit( \n",
    "                    X_train_poly, y_train, \n",
    "                    eval_set=eval_set,\n",
    "                    eval_metric='auc', #new evaluation metric: classification error (could also use AUC, e.g.)\n",
    "                    early_stopping_rounds=50,\n",
    "                    verbose=False\n",
    "                   )\n",
    "\n",
    "print('The best number of tree: ', gbm.best_ntree_limit)\n",
    "print('F2 score on the test set: ', fbeta_score(y_test, gbm.predict(X_test_poly, ntree_limit=gbm.best_ntree_limit), 2))\n",
    "print('ROC AUC score on the test set: ', roc_auc_score(y_test, gbm.predict_proba(X_test_poly, ntree_limit=gbm.best_ntree_limit)[:, 1]))"
   ]
  },
  {
   "cell_type": "code",
   "execution_count": null,
   "id": "precious-harbor",
   "metadata": {},
   "outputs": [],
   "source": []
  },
  {
   "cell_type": "code",
   "execution_count": null,
   "id": "dated-petroleum",
   "metadata": {},
   "outputs": [],
   "source": []
  },
  {
   "cell_type": "markdown",
   "id": "employed-summit",
   "metadata": {},
   "source": [
    "### Best params"
   ]
  },
  {
   "cell_type": "code",
   "execution_count": 19,
   "id": "continuing-feeding",
   "metadata": {
    "ExecuteTime": {
     "end_time": "2021-05-14T15:04:59.001232Z",
     "start_time": "2021-05-14T15:02:24.577134Z"
    }
   },
   "outputs": [
    {
     "name": "stdout",
     "output_type": "stream",
     "text": [
      "The best number of tree:  269\n",
      "F2 score on the test set:  0.4319814660558101\n",
      "ROC AUC score on the test set:  0.767852716944006\n"
     ]
    }
   ],
   "source": [
    "gbm = xgb.XGBClassifier( \n",
    "                        n_estimators=30000,\n",
    "                        max_depth=3,\n",
    "                        objective='binary:logistic', #new objective\n",
    "                        learning_rate=.23, \n",
    "                        subsample=.8,\n",
    "                        min_child_weight=3,\n",
    "                        colsample_bytree=.8,\n",
    "                        gamma=0.382,\n",
    "                        scale_pos_weight=11\n",
    "                       )\n",
    "\n",
    "eval_set=[(X_train_poly,y_train),(X_test_poly,y_test)]\n",
    "fit_model = gbm.fit( \n",
    "                    X_train_poly, y_train, \n",
    "                    eval_set=eval_set,\n",
    "                    eval_metric='auc', #new evaluation metric: classification error (could also use AUC, e.g.)\n",
    "                    early_stopping_rounds=50,\n",
    "                    verbose=False\n",
    "                   )\n",
    "\n",
    "print('The best number of tree: ', gbm.best_ntree_limit)\n",
    "print('F2 score on the test set: ', fbeta_score(y_test, gbm.predict(X_test_poly, ntree_limit=gbm.best_ntree_limit), 2))\n",
    "print('ROC AUC score on the test set: ', roc_auc_score(y_test, gbm.predict_proba(X_test_poly, ntree_limit=gbm.best_ntree_limit)[:, 1]))"
   ]
  },
  {
   "cell_type": "code",
   "execution_count": 20,
   "id": "computational-hours",
   "metadata": {
    "ExecuteTime": {
     "end_time": "2021-05-14T15:05:02.531802Z",
     "start_time": "2021-05-14T15:04:59.003227Z"
    }
   },
   "outputs": [
    {
     "name": "stdout",
     "output_type": "stream",
     "text": [
      "The best number of tree:  269\n",
      "F2 score on the train set:  0.4634669465935746\n",
      "ROC AUC score on the train set:  0.8036790099795033\n"
     ]
    }
   ],
   "source": [
    "print('The best number of tree: ', gbm.best_ntree_limit)\n",
    "print('F2 score on the train set: ', fbeta_score(y_train, gbm.predict(X_train_poly, ntree_limit=gbm.best_ntree_limit), 2))\n",
    "print('ROC AUC score on the train set: ', roc_auc_score(y_train, gbm.predict_proba(X_train_poly, ntree_limit=gbm.best_ntree_limit)[:, 1]))"
   ]
  },
  {
   "cell_type": "code",
   "execution_count": 21,
   "id": "restricted-penny",
   "metadata": {
    "ExecuteTime": {
     "end_time": "2021-05-14T15:05:02.991226Z",
     "start_time": "2021-05-14T15:05:02.533797Z"
    }
   },
   "outputs": [],
   "source": [
    "y_pred = gbm.predict(X_test_poly, ntree_limit=gbm.best_ntree_limit)"
   ]
  },
  {
   "cell_type": "code",
   "execution_count": 22,
   "id": "understood-genre",
   "metadata": {
    "ExecuteTime": {
     "end_time": "2021-05-14T15:05:03.529777Z",
     "start_time": "2021-05-14T15:05:02.993221Z"
    }
   },
   "outputs": [],
   "source": [
    "y_pred_prob = gbm.predict_proba(X_test_poly, ntree_limit=gbm.best_ntree_limit)"
   ]
  },
  {
   "cell_type": "code",
   "execution_count": 23,
   "id": "abandoned-release",
   "metadata": {
    "ExecuteTime": {
     "end_time": "2021-05-14T15:05:03.544738Z",
     "start_time": "2021-05-14T15:05:03.531771Z"
    }
   },
   "outputs": [
    {
     "data": {
      "text/plain": [
       "XGBClassifier(base_score=0.5, booster='gbtree', colsample_bylevel=1,\n",
       "              colsample_bynode=1, colsample_bytree=0.8, gamma=0.382, gpu_id=-1,\n",
       "              importance_type='gain', interaction_constraints='',\n",
       "              learning_rate=0.23, max_delta_step=0, max_depth=3,\n",
       "              min_child_weight=3, missing=nan, monotone_constraints='()',\n",
       "              n_estimators=30000, n_jobs=0, num_parallel_tree=1, random_state=0,\n",
       "              reg_alpha=0, reg_lambda=1, scale_pos_weight=11, subsample=0.8,\n",
       "              tree_method='exact', validate_parameters=1, verbosity=None)"
      ]
     },
     "execution_count": 23,
     "metadata": {},
     "output_type": "execute_result"
    }
   ],
   "source": [
    "gbm"
   ]
  },
  {
   "cell_type": "code",
   "execution_count": 24,
   "id": "downtown-killer",
   "metadata": {
    "ExecuteTime": {
     "end_time": "2021-05-14T15:05:03.620534Z",
     "start_time": "2021-05-14T15:05:03.546732Z"
    }
   },
   "outputs": [
    {
     "data": {
      "text/html": [
       "<div>\n",
       "<style scoped>\n",
       "    .dataframe tbody tr th:only-of-type {\n",
       "        vertical-align: middle;\n",
       "    }\n",
       "\n",
       "    .dataframe tbody tr th {\n",
       "        vertical-align: top;\n",
       "    }\n",
       "\n",
       "    .dataframe thead th {\n",
       "        text-align: right;\n",
       "    }\n",
       "</style>\n",
       "<table border=\"1\" class=\"dataframe\">\n",
       "  <thead>\n",
       "    <tr style=\"text-align: right;\">\n",
       "      <th></th>\n",
       "      <th>SK_ID_CURR</th>\n",
       "      <th>CNT_CHILDREN</th>\n",
       "      <th>AMT_INCOME_TOTAL</th>\n",
       "      <th>AMT_CREDIT</th>\n",
       "      <th>AMT_ANNUITY</th>\n",
       "      <th>AMT_GOODS_PRICE</th>\n",
       "      <th>REGION_POPULATION_RELATIVE</th>\n",
       "      <th>DAYS_BIRTH</th>\n",
       "      <th>DAYS_EMPLOYED</th>\n",
       "      <th>DAYS_REGISTRATION</th>\n",
       "      <th>...</th>\n",
       "      <th>WALLSMATERIAL_MODE_Panel</th>\n",
       "      <th>WALLSMATERIAL_MODE_Stone, brick</th>\n",
       "      <th>WALLSMATERIAL_MODE_Wooden</th>\n",
       "      <th>EMERGENCYSTATE_MODE_No</th>\n",
       "      <th>EMERGENCYSTATE_MODE_Yes</th>\n",
       "      <th>DAYS_EMPLOYED_ANOM</th>\n",
       "      <th>CREDIT_INCOME_PERCENT</th>\n",
       "      <th>ANNUITY_INCOME_PERCENT</th>\n",
       "      <th>CREDIT_TERM</th>\n",
       "      <th>DAYS_EMPLOYED_PERCENT</th>\n",
       "    </tr>\n",
       "  </thead>\n",
       "  <tbody>\n",
       "    <tr>\n",
       "      <th>245895</th>\n",
       "      <td>384575</td>\n",
       "      <td>2</td>\n",
       "      <td>207000.0</td>\n",
       "      <td>465457.5</td>\n",
       "      <td>52641.0</td>\n",
       "      <td>418500.0</td>\n",
       "      <td>0.009630</td>\n",
       "      <td>-13297</td>\n",
       "      <td>762.0</td>\n",
       "      <td>-637.0</td>\n",
       "      <td>...</td>\n",
       "      <td>0</td>\n",
       "      <td>0</td>\n",
       "      <td>0</td>\n",
       "      <td>0</td>\n",
       "      <td>0</td>\n",
       "      <td>False</td>\n",
       "      <td>2.248587</td>\n",
       "      <td>0.254304</td>\n",
       "      <td>0.113095</td>\n",
       "      <td>-0.057306</td>\n",
       "    </tr>\n",
       "    <tr>\n",
       "      <th>98194</th>\n",
       "      <td>214010</td>\n",
       "      <td>0</td>\n",
       "      <td>247500.0</td>\n",
       "      <td>1281712.5</td>\n",
       "      <td>48946.5</td>\n",
       "      <td>1179000.0</td>\n",
       "      <td>0.006852</td>\n",
       "      <td>-14778</td>\n",
       "      <td>1141.0</td>\n",
       "      <td>-1610.0</td>\n",
       "      <td>...</td>\n",
       "      <td>0</td>\n",
       "      <td>0</td>\n",
       "      <td>0</td>\n",
       "      <td>1</td>\n",
       "      <td>0</td>\n",
       "      <td>False</td>\n",
       "      <td>5.178636</td>\n",
       "      <td>0.197764</td>\n",
       "      <td>0.038188</td>\n",
       "      <td>-0.077209</td>\n",
       "    </tr>\n",
       "    <tr>\n",
       "      <th>36463</th>\n",
       "      <td>142232</td>\n",
       "      <td>0</td>\n",
       "      <td>202500.0</td>\n",
       "      <td>495000.0</td>\n",
       "      <td>39109.5</td>\n",
       "      <td>495000.0</td>\n",
       "      <td>0.035792</td>\n",
       "      <td>-17907</td>\n",
       "      <td>639.0</td>\n",
       "      <td>-2507.0</td>\n",
       "      <td>...</td>\n",
       "      <td>0</td>\n",
       "      <td>0</td>\n",
       "      <td>0</td>\n",
       "      <td>0</td>\n",
       "      <td>0</td>\n",
       "      <td>False</td>\n",
       "      <td>2.444444</td>\n",
       "      <td>0.193133</td>\n",
       "      <td>0.079009</td>\n",
       "      <td>-0.035684</td>\n",
       "    </tr>\n",
       "    <tr>\n",
       "      <th>249923</th>\n",
       "      <td>389171</td>\n",
       "      <td>0</td>\n",
       "      <td>247500.0</td>\n",
       "      <td>254700.0</td>\n",
       "      <td>24939.0</td>\n",
       "      <td>225000.0</td>\n",
       "      <td>0.046220</td>\n",
       "      <td>-19626</td>\n",
       "      <td>6982.0</td>\n",
       "      <td>-11167.0</td>\n",
       "      <td>...</td>\n",
       "      <td>1</td>\n",
       "      <td>0</td>\n",
       "      <td>0</td>\n",
       "      <td>1</td>\n",
       "      <td>0</td>\n",
       "      <td>False</td>\n",
       "      <td>1.029091</td>\n",
       "      <td>0.100764</td>\n",
       "      <td>0.097915</td>\n",
       "      <td>-0.355753</td>\n",
       "    </tr>\n",
       "    <tr>\n",
       "      <th>158389</th>\n",
       "      <td>283617</td>\n",
       "      <td>0</td>\n",
       "      <td>112500.0</td>\n",
       "      <td>308133.0</td>\n",
       "      <td>15862.5</td>\n",
       "      <td>234000.0</td>\n",
       "      <td>0.018850</td>\n",
       "      <td>-20327</td>\n",
       "      <td>1105.0</td>\n",
       "      <td>-7299.0</td>\n",
       "      <td>...</td>\n",
       "      <td>0</td>\n",
       "      <td>1</td>\n",
       "      <td>0</td>\n",
       "      <td>1</td>\n",
       "      <td>0</td>\n",
       "      <td>False</td>\n",
       "      <td>2.738960</td>\n",
       "      <td>0.141000</td>\n",
       "      <td>0.051479</td>\n",
       "      <td>-0.054361</td>\n",
       "    </tr>\n",
       "    <tr>\n",
       "      <th>...</th>\n",
       "      <td>...</td>\n",
       "      <td>...</td>\n",
       "      <td>...</td>\n",
       "      <td>...</td>\n",
       "      <td>...</td>\n",
       "      <td>...</td>\n",
       "      <td>...</td>\n",
       "      <td>...</td>\n",
       "      <td>...</td>\n",
       "      <td>...</td>\n",
       "      <td>...</td>\n",
       "      <td>...</td>\n",
       "      <td>...</td>\n",
       "      <td>...</td>\n",
       "      <td>...</td>\n",
       "      <td>...</td>\n",
       "      <td>...</td>\n",
       "      <td>...</td>\n",
       "      <td>...</td>\n",
       "      <td>...</td>\n",
       "      <td>...</td>\n",
       "    </tr>\n",
       "    <tr>\n",
       "      <th>256564</th>\n",
       "      <td>396891</td>\n",
       "      <td>2</td>\n",
       "      <td>450000.0</td>\n",
       "      <td>900000.0</td>\n",
       "      <td>45000.0</td>\n",
       "      <td>900000.0</td>\n",
       "      <td>0.003541</td>\n",
       "      <td>-18622</td>\n",
       "      <td>2097.0</td>\n",
       "      <td>-5335.0</td>\n",
       "      <td>...</td>\n",
       "      <td>0</td>\n",
       "      <td>0</td>\n",
       "      <td>1</td>\n",
       "      <td>0</td>\n",
       "      <td>1</td>\n",
       "      <td>False</td>\n",
       "      <td>2.000000</td>\n",
       "      <td>0.100000</td>\n",
       "      <td>0.050000</td>\n",
       "      <td>-0.112609</td>\n",
       "    </tr>\n",
       "    <tr>\n",
       "      <th>278889</th>\n",
       "      <td>423085</td>\n",
       "      <td>0</td>\n",
       "      <td>225000.0</td>\n",
       "      <td>202500.0</td>\n",
       "      <td>24030.0</td>\n",
       "      <td>202500.0</td>\n",
       "      <td>0.028663</td>\n",
       "      <td>-12325</td>\n",
       "      <td>187.0</td>\n",
       "      <td>-1196.0</td>\n",
       "      <td>...</td>\n",
       "      <td>0</td>\n",
       "      <td>0</td>\n",
       "      <td>0</td>\n",
       "      <td>0</td>\n",
       "      <td>0</td>\n",
       "      <td>False</td>\n",
       "      <td>0.900000</td>\n",
       "      <td>0.106800</td>\n",
       "      <td>0.118667</td>\n",
       "      <td>-0.015172</td>\n",
       "    </tr>\n",
       "    <tr>\n",
       "      <th>221828</th>\n",
       "      <td>356971</td>\n",
       "      <td>0</td>\n",
       "      <td>121500.0</td>\n",
       "      <td>254700.0</td>\n",
       "      <td>30357.0</td>\n",
       "      <td>225000.0</td>\n",
       "      <td>0.003818</td>\n",
       "      <td>-23629</td>\n",
       "      <td>NaN</td>\n",
       "      <td>-2376.0</td>\n",
       "      <td>...</td>\n",
       "      <td>0</td>\n",
       "      <td>0</td>\n",
       "      <td>0</td>\n",
       "      <td>1</td>\n",
       "      <td>0</td>\n",
       "      <td>True</td>\n",
       "      <td>2.096296</td>\n",
       "      <td>0.249852</td>\n",
       "      <td>0.119187</td>\n",
       "      <td>NaN</td>\n",
       "    </tr>\n",
       "    <tr>\n",
       "      <th>190245</th>\n",
       "      <td>320581</td>\n",
       "      <td>1</td>\n",
       "      <td>112500.0</td>\n",
       "      <td>1314117.0</td>\n",
       "      <td>38551.5</td>\n",
       "      <td>1147500.0</td>\n",
       "      <td>0.007120</td>\n",
       "      <td>-17350</td>\n",
       "      <td>4118.0</td>\n",
       "      <td>-2618.0</td>\n",
       "      <td>...</td>\n",
       "      <td>0</td>\n",
       "      <td>0</td>\n",
       "      <td>0</td>\n",
       "      <td>0</td>\n",
       "      <td>0</td>\n",
       "      <td>False</td>\n",
       "      <td>11.681040</td>\n",
       "      <td>0.342680</td>\n",
       "      <td>0.029336</td>\n",
       "      <td>-0.237349</td>\n",
       "    </tr>\n",
       "    <tr>\n",
       "      <th>253004</th>\n",
       "      <td>392758</td>\n",
       "      <td>0</td>\n",
       "      <td>157500.0</td>\n",
       "      <td>521280.0</td>\n",
       "      <td>27423.0</td>\n",
       "      <td>450000.0</td>\n",
       "      <td>0.004960</td>\n",
       "      <td>-18973</td>\n",
       "      <td>3289.0</td>\n",
       "      <td>-7283.0</td>\n",
       "      <td>...</td>\n",
       "      <td>0</td>\n",
       "      <td>0</td>\n",
       "      <td>0</td>\n",
       "      <td>0</td>\n",
       "      <td>0</td>\n",
       "      <td>False</td>\n",
       "      <td>3.309714</td>\n",
       "      <td>0.174114</td>\n",
       "      <td>0.052607</td>\n",
       "      <td>-0.173352</td>\n",
       "    </tr>\n",
       "  </tbody>\n",
       "</table>\n",
       "<p>61503 rows × 250 columns</p>\n",
       "</div>"
      ],
      "text/plain": [
       "        SK_ID_CURR  CNT_CHILDREN  AMT_INCOME_TOTAL  AMT_CREDIT  AMT_ANNUITY  \\\n",
       "245895      384575             2          207000.0    465457.5      52641.0   \n",
       "98194       214010             0          247500.0   1281712.5      48946.5   \n",
       "36463       142232             0          202500.0    495000.0      39109.5   \n",
       "249923      389171             0          247500.0    254700.0      24939.0   \n",
       "158389      283617             0          112500.0    308133.0      15862.5   \n",
       "...            ...           ...               ...         ...          ...   \n",
       "256564      396891             2          450000.0    900000.0      45000.0   \n",
       "278889      423085             0          225000.0    202500.0      24030.0   \n",
       "221828      356971             0          121500.0    254700.0      30357.0   \n",
       "190245      320581             1          112500.0   1314117.0      38551.5   \n",
       "253004      392758             0          157500.0    521280.0      27423.0   \n",
       "\n",
       "        AMT_GOODS_PRICE  REGION_POPULATION_RELATIVE  DAYS_BIRTH  \\\n",
       "245895         418500.0                    0.009630      -13297   \n",
       "98194         1179000.0                    0.006852      -14778   \n",
       "36463          495000.0                    0.035792      -17907   \n",
       "249923         225000.0                    0.046220      -19626   \n",
       "158389         234000.0                    0.018850      -20327   \n",
       "...                 ...                         ...         ...   \n",
       "256564         900000.0                    0.003541      -18622   \n",
       "278889         202500.0                    0.028663      -12325   \n",
       "221828         225000.0                    0.003818      -23629   \n",
       "190245        1147500.0                    0.007120      -17350   \n",
       "253004         450000.0                    0.004960      -18973   \n",
       "\n",
       "        DAYS_EMPLOYED  DAYS_REGISTRATION  ...  WALLSMATERIAL_MODE_Panel  \\\n",
       "245895          762.0             -637.0  ...                         0   \n",
       "98194          1141.0            -1610.0  ...                         0   \n",
       "36463           639.0            -2507.0  ...                         0   \n",
       "249923         6982.0           -11167.0  ...                         1   \n",
       "158389         1105.0            -7299.0  ...                         0   \n",
       "...               ...                ...  ...                       ...   \n",
       "256564         2097.0            -5335.0  ...                         0   \n",
       "278889          187.0            -1196.0  ...                         0   \n",
       "221828            NaN            -2376.0  ...                         0   \n",
       "190245         4118.0            -2618.0  ...                         0   \n",
       "253004         3289.0            -7283.0  ...                         0   \n",
       "\n",
       "        WALLSMATERIAL_MODE_Stone, brick  WALLSMATERIAL_MODE_Wooden  \\\n",
       "245895                                0                          0   \n",
       "98194                                 0                          0   \n",
       "36463                                 0                          0   \n",
       "249923                                0                          0   \n",
       "158389                                1                          0   \n",
       "...                                 ...                        ...   \n",
       "256564                                0                          1   \n",
       "278889                                0                          0   \n",
       "221828                                0                          0   \n",
       "190245                                0                          0   \n",
       "253004                                0                          0   \n",
       "\n",
       "        EMERGENCYSTATE_MODE_No  EMERGENCYSTATE_MODE_Yes  DAYS_EMPLOYED_ANOM  \\\n",
       "245895                       0                        0               False   \n",
       "98194                        1                        0               False   \n",
       "36463                        0                        0               False   \n",
       "249923                       1                        0               False   \n",
       "158389                       1                        0               False   \n",
       "...                        ...                      ...                 ...   \n",
       "256564                       0                        1               False   \n",
       "278889                       0                        0               False   \n",
       "221828                       1                        0                True   \n",
       "190245                       0                        0               False   \n",
       "253004                       0                        0               False   \n",
       "\n",
       "        CREDIT_INCOME_PERCENT  ANNUITY_INCOME_PERCENT  CREDIT_TERM  \\\n",
       "245895               2.248587                0.254304     0.113095   \n",
       "98194                5.178636                0.197764     0.038188   \n",
       "36463                2.444444                0.193133     0.079009   \n",
       "249923               1.029091                0.100764     0.097915   \n",
       "158389               2.738960                0.141000     0.051479   \n",
       "...                       ...                     ...          ...   \n",
       "256564               2.000000                0.100000     0.050000   \n",
       "278889               0.900000                0.106800     0.118667   \n",
       "221828               2.096296                0.249852     0.119187   \n",
       "190245              11.681040                0.342680     0.029336   \n",
       "253004               3.309714                0.174114     0.052607   \n",
       "\n",
       "        DAYS_EMPLOYED_PERCENT  \n",
       "245895              -0.057306  \n",
       "98194               -0.077209  \n",
       "36463               -0.035684  \n",
       "249923              -0.355753  \n",
       "158389              -0.054361  \n",
       "...                       ...  \n",
       "256564              -0.112609  \n",
       "278889              -0.015172  \n",
       "221828                    NaN  \n",
       "190245              -0.237349  \n",
       "253004              -0.173352  \n",
       "\n",
       "[61503 rows x 250 columns]"
      ]
     },
     "execution_count": 24,
     "metadata": {},
     "output_type": "execute_result"
    }
   ],
   "source": [
    "X_test"
   ]
  },
  {
   "cell_type": "code",
   "execution_count": 25,
   "id": "meaningful-edition",
   "metadata": {
    "ExecuteTime": {
     "end_time": "2021-05-14T15:05:03.635496Z",
     "start_time": "2021-05-14T15:05:03.622529Z"
    }
   },
   "outputs": [
    {
     "data": {
      "text/plain": [
       "245895    0\n",
       "98194     0\n",
       "36463     0\n",
       "249923    0\n",
       "158389    0\n",
       "         ..\n",
       "256564    0\n",
       "278889    0\n",
       "221828    0\n",
       "190245    0\n",
       "253004    0\n",
       "Name: TARGET, Length: 61503, dtype: int64"
      ]
     },
     "execution_count": 25,
     "metadata": {},
     "output_type": "execute_result"
    }
   ],
   "source": [
    "y_test"
   ]
  },
  {
   "cell_type": "code",
   "execution_count": 26,
   "id": "hazardous-cancellation",
   "metadata": {
    "ExecuteTime": {
     "end_time": "2021-05-14T15:05:03.697329Z",
     "start_time": "2021-05-14T15:05:03.636492Z"
    }
   },
   "outputs": [
    {
     "data": {
      "text/plain": [
       "array([[41253, 15301],\n",
       "       [ 1630,  3319]], dtype=int64)"
      ]
     },
     "execution_count": 26,
     "metadata": {},
     "output_type": "execute_result"
    }
   ],
   "source": [
    "from sklearn.metrics import confusion_matrix\n",
    "\n",
    "confusion_matrix(y_test, y_pred)"
   ]
  },
  {
   "cell_type": "code",
   "execution_count": null,
   "id": "tracked-magnitude",
   "metadata": {},
   "outputs": [],
   "source": []
  },
  {
   "cell_type": "code",
   "execution_count": 27,
   "id": "neutral-forward",
   "metadata": {
    "ExecuteTime": {
     "end_time": "2021-05-14T15:05:04.081828Z",
     "start_time": "2021-05-14T15:05:03.702317Z"
    }
   },
   "outputs": [
    {
     "data": {
      "image/png": "[encoded data removed]",
      "text/plain": [
       "<Figure size 600x400 with 2 Axes>"
      ]
     },
     "metadata": {},
     "output_type": "display_data"
    }
   ],
   "source": [
    "# Print confusion matrix for logistic regression\n",
    "xgb_confusion = confusion_matrix(y_test, y_pred)\n",
    "plt.figure(dpi=100)\n",
    "sns.heatmap(xgb_confusion, cmap=plt.cm.Blues, annot=True, square=True, fmt='d',\n",
    "           xticklabels=['Non-defaulted', 'Defaulted'],\n",
    "           yticklabels=['Non-defaulted', 'Defaulted'])\n",
    "\n",
    "plt.xlabel('Predicted defaults')\n",
    "plt.ylabel('Actual defaults')\n",
    "plt.title('XGBoost confusion matrix');\n",
    "\n",
    "plt.savefig(\"confusion_matrix_xgb.png\")"
   ]
  },
  {
   "cell_type": "code",
   "execution_count": 28,
   "id": "integrated-karma",
   "metadata": {
    "ExecuteTime": {
     "end_time": "2021-05-14T15:05:05.379491Z",
     "start_time": "2021-05-14T15:05:04.084822Z"
    }
   },
   "outputs": [
    {
     "data": {
      "image/png": "[encoded data removed]",
      "text/plain": [
       "<Figure size 600x400 with 2 Axes>"
      ]
     },
     "metadata": {},
     "output_type": "display_data"
    }
   ],
   "source": [
    "def make_confusion_matrix(model, threshold=0.5):\n",
    "    # Predict class 1 if probability of being in class 1 is greater than threshold\n",
    "    # (model.predict(X_test) does this automatically with a threshold of 0.5)\n",
    "    y_predict_proba = (model.predict_proba(X_test_poly)[:, 1] >= threshold)\n",
    "    y_predict = model.predict(X_test_poly)\n",
    "    default_confusion = confusion_matrix(y_test, y_predict_proba)\n",
    "    plt.figure(dpi=100)\n",
    "    sns.heatmap(default_confusion, cmap=plt.cm.gist_stern, annot=True, square=True, fmt='d',\n",
    "           xticklabels=['Non-defaulted', 'Defaulted'],\n",
    "           yticklabels=['Non-defaulted', 'Defaulted']);\n",
    "    plt.xlabel('prediction')\n",
    "    plt.ylabel('actual')\n",
    "\n",
    "make_confusion_matrix(gbm)"
   ]
  },
  {
   "cell_type": "code",
   "execution_count": null,
   "id": "armed-chart",
   "metadata": {
    "ExecuteTime": {
     "end_time": "2021-05-14T07:03:15.550500Z",
     "start_time": "2021-05-14T07:03:14.202509Z"
    }
   },
   "outputs": [],
   "source": []
  },
  {
   "cell_type": "code",
   "execution_count": 29,
   "id": "received-integer",
   "metadata": {
    "ExecuteTime": {
     "end_time": "2021-05-14T15:05:06.675102Z",
     "start_time": "2021-05-14T15:05:05.380488Z"
    }
   },
   "outputs": [
    {
     "data": {
      "application/vnd.jupyter.widget-view+json": {
       "model_id": "a81de2d7dc1c40039a4f3ca3261f27a6",
       "version_major": 2,
       "version_minor": 0
      },
      "text/plain": [
       "interactive(children=(FloatSlider(value=0.5, description='threshold', max=1.0, step=0.02), Output()), _dom_cla…"
      ]
     },
     "metadata": {},
     "output_type": "display_data"
    }
   ],
   "source": [
    "# Let's see how our confusion matrix changes with changes to the cutoff! \n",
    "\n",
    "from ipywidgets import interactive, FloatSlider\n",
    "\n",
    "interactive(lambda threshold: make_confusion_matrix(gbm, threshold), threshold=(0.0,1.0,0.02))"
   ]
  },
  {
   "cell_type": "code",
   "execution_count": 30,
   "id": "binary-battlefield",
   "metadata": {
    "ExecuteTime": {
     "end_time": "2021-05-14T15:05:06.706047Z",
     "start_time": "2021-05-14T15:05:06.677110Z"
    }
   },
   "outputs": [
    {
     "data": {
      "text/plain": [
       "0.6706405334410992"
      ]
     },
     "execution_count": 30,
     "metadata": {},
     "output_type": "execute_result"
    }
   ],
   "source": [
    "recall_score(y_test, y_pred)"
   ]
  },
  {
   "cell_type": "code",
   "execution_count": 31,
   "id": "expired-pasta",
   "metadata": {
    "ExecuteTime": {
     "end_time": "2021-05-14T15:05:06.722049Z",
     "start_time": "2021-05-14T15:05:06.708043Z"
    }
   },
   "outputs": [],
   "source": [
    "from sklearn.metrics import precision_recall_curve\n",
    "from sklearn.model_selection import cross_val_predict"
   ]
  },
  {
   "cell_type": "code",
   "execution_count": 32,
   "id": "incident-google",
   "metadata": {
    "ExecuteTime": {
     "end_time": "2021-05-14T15:05:07.182904Z",
     "start_time": "2021-05-14T15:05:06.723045Z"
    }
   },
   "outputs": [
    {
     "data": {
      "text/plain": [
       "0.17824919441460796"
      ]
     },
     "execution_count": 32,
     "metadata": {},
     "output_type": "execute_result"
    }
   ],
   "source": [
    "precision_score(y_test, gbm.predict(X_test_poly))"
   ]
  },
  {
   "cell_type": "code",
   "execution_count": 33,
   "id": "raising-forge",
   "metadata": {
    "ExecuteTime": {
     "end_time": "2021-05-14T15:05:07.688552Z",
     "start_time": "2021-05-14T15:05:07.184899Z"
    }
   },
   "outputs": [
    {
     "data": {
      "text/plain": [
       "0.6706405334410992"
      ]
     },
     "execution_count": 33,
     "metadata": {},
     "output_type": "execute_result"
    }
   ],
   "source": [
    "recall_score(y_test, gbm.predict(X_test_poly))"
   ]
  },
  {
   "cell_type": "code",
   "execution_count": null,
   "id": "negative-object",
   "metadata": {},
   "outputs": [],
   "source": []
  },
  {
   "cell_type": "code",
   "execution_count": 34,
   "id": "registered-bhutan",
   "metadata": {
    "ExecuteTime": {
     "end_time": "2021-05-14T15:05:08.161287Z",
     "start_time": "2021-05-14T15:05:07.690547Z"
    }
   },
   "outputs": [],
   "source": [
    "precision_curve, recall_curve, threshold_curve = precision_recall_curve(y_test, gbm.predict(X_test_poly))"
   ]
  },
  {
   "cell_type": "code",
   "execution_count": 35,
   "id": "peripheral-rainbow",
   "metadata": {
    "ExecuteTime": {
     "end_time": "2021-05-14T15:05:08.882386Z",
     "start_time": "2021-05-14T15:05:08.163282Z"
    }
   },
   "outputs": [
    {
     "data": {
      "image/png": "[encoded data removed]",
      "text/plain": [
       "<Figure size 720x480 with 1 Axes>"
      ]
     },
     "metadata": {},
     "output_type": "display_data"
    }
   ],
   "source": [
    "mpl.rc('axes', labelsize=14)\n",
    "mpl.rc('xtick', labelsize=12)\n",
    "mpl.rc('ytick', labelsize=12)\n",
    "\n",
    "precision_curve, recall_curve, threshold_curve = precision_recall_curve(y_test, gbm.predict_proba(X_test_poly)[:,1] )\n",
    "\n",
    "\n",
    "def plot_precision_recall_vs_threshold(precisions, recalls, thresholds):\n",
    "    plt.plot(thresholds, precisions[:-1], \"b--\", label=\"Precision\", linewidth=2)\n",
    "    plt.plot(thresholds, recalls[:-1], \"g-\", label=\"Recall\", linewidth=2)\n",
    "    plt.legend(loc=\"center left\", fontsize=16)\n",
    "    plt.xlabel(\"Threshold\", fontsize=16)\n",
    "    plt.grid(True)                      \n",
    "    plt.axis([0, 1, 0, 1])     \n",
    "\n",
    "recall_40_precision = recall_curve[np.argmax(recall_curve >= 0.5)]\n",
    "threshold_40_precision = threshold_curve[np.argmax(recall_curve >= 0.5)]\n",
    "\n",
    "plt.figure(dpi=120)\n",
    "plot_precision_recall_vs_threshold(precision_curve, recall_curve, threshold_curve)\n",
    "plt.plot([threshold_40_precision, threshold_40_precision], [0., 0.4], \"r:\")                 \n",
    "plt.plot([0, threshold_40_precision], [0.4, 0.4], \"r:\")                                \n",
    "plt.plot([0, threshold_40_precision], [recall_40_precision, recall_40_precision], \"r:\")\n",
    "plt.plot([threshold_40_precision], [0.4], \"ro\")                                             \n",
    "plt.plot([threshold_40_precision], [recall_40_precision], \"ro\")  \n",
    "\n",
    "plt.title('Precision and Recall Curves');"
   ]
  },
  {
   "cell_type": "code",
   "execution_count": 36,
   "id": "banned-terrorist",
   "metadata": {
    "ExecuteTime": {
     "end_time": "2021-05-14T15:05:09.573081Z",
     "start_time": "2021-05-14T15:05:08.884365Z"
    }
   },
   "outputs": [
    {
     "data": {
      "image/png": "[encoded data removed]",
      "text/plain": [
       "<Figure size 720x480 with 1 Axes>"
      ]
     },
     "metadata": {},
     "output_type": "display_data"
    }
   ],
   "source": [
    "precision_curve, recall_curve, threshold_curve = precision_recall_curve(y_test, gbm.predict_proba(X_test_poly)[:,1] )\n",
    "\n",
    "plt.figure(dpi=120)\n",
    "plt.plot(threshold_curve, precision_curve[1:],label='precision')\n",
    "plt.plot(threshold_curve, recall_curve[1:], label='recall')\n",
    "\n",
    "plt.plot([0.4, 0.4], [0., 0.8], \"r:\")\n",
    "plt.plot([0, 0.4], [0.8, 0.8], \"r:\")\n",
    "plt.plot([0.4, 0.4], [0., 0.8], \"r:\")\n",
    "plt.plot([0, 0.4], [0.15, 0.15], \"r:\")\n",
    "plt.plot([0.4], [0.8], \"ro\")  \n",
    "plt.plot([0.4], [0.15], \"ro\") \n",
    "\n",
    "\n",
    "plt.legend(loc='center left')\n",
    "plt.xlabel('Threshold');\n",
    "plt.title('Precision and Recall Curves');"
   ]
  },
  {
   "cell_type": "code",
   "execution_count": null,
   "id": "major-trust",
   "metadata": {},
   "outputs": [],
   "source": []
  },
  {
   "cell_type": "code",
   "execution_count": 37,
   "id": "valuable-being",
   "metadata": {
    "ExecuteTime": {
     "end_time": "2021-05-14T15:05:10.001789Z",
     "start_time": "2021-05-14T15:05:09.574079Z"
    }
   },
   "outputs": [],
   "source": [
    "fpr_xgb, tpr_xgb, thresholds_xgb = roc_curve(y_test, gbm.predict_proba(X_test_poly, ntree_limit=gbm.best_ntree_limit)[:, 1])"
   ]
  },
  {
   "cell_type": "code",
   "execution_count": null,
   "id": "robust-december",
   "metadata": {},
   "outputs": [],
   "source": []
  },
  {
   "cell_type": "markdown",
   "id": "requested-sampling",
   "metadata": {},
   "source": [
    "### Features importance"
   ]
  },
  {
   "cell_type": "code",
   "execution_count": 38,
   "id": "pacific-terrorist",
   "metadata": {
    "ExecuteTime": {
     "end_time": "2021-05-14T15:21:20.622194Z",
     "start_time": "2021-05-14T15:21:20.606245Z"
    }
   },
   "outputs": [],
   "source": [
    "def plot_feature_importances(df):\n",
    "    \n",
    "    # Sort features according to importance\n",
    "    df = df.sort_values('importance', ascending = False).reset_index()\n",
    "    \n",
    "    # Normalize the feature importances to add up to one\n",
    "    df['importance_normalized'] = df['importance'] / df['importance'].sum()\n",
    "\n",
    "    # Make a horizontal bar chart of feature importances\n",
    "    plt.figure(figsize = (10, 6))\n",
    "    ax = plt.subplot()\n",
    "    \n",
    "    # Need to reverse the index to plot most important on top\n",
    "    ax.barh(list(reversed(list(df.index[:15]))), \n",
    "            df['importance_normalized'].head(15), \n",
    "            align = 'center', edgecolor = 'k')\n",
    "    \n",
    "    # Set the yticks and labels\n",
    "    ax.set_yticks(list(reversed(list(df.index[:15]))))\n",
    "    ax.set_yticklabels(df['feature'].head(15))\n",
    "    \n",
    "    # Plot labeling\n",
    "    plt.xlabel('Normalized Importance'); plt.title('Feature Importances')\n",
    "    plt.show()\n",
    "    \n",
    "    return df"
   ]
  },
  {
   "cell_type": "code",
   "execution_count": 39,
   "id": "documented-witch",
   "metadata": {
    "ExecuteTime": {
     "end_time": "2021-05-14T15:22:36.075595Z",
     "start_time": "2021-05-14T15:22:36.035702Z"
    }
   },
   "outputs": [],
   "source": [
    "# Extract feature importances\n",
    "\n",
    "feature_importance_values = gbm.feature_importances_\n",
    "feature_importances = pd.DataFrame({'feature': features, 'importance': feature_importance_values})"
   ]
  },
  {
   "cell_type": "code",
   "execution_count": 41,
   "id": "religious-express",
   "metadata": {
    "ExecuteTime": {
     "end_time": "2021-05-14T15:23:50.958145Z",
     "start_time": "2021-05-14T15:23:50.743598Z"
    }
   },
   "outputs": [
    {
     "data": {
      "image/png": "[encoded data removed]",
      "text/plain": [
       "<Figure size 720x432 with 1 Axes>"
      ]
     },
     "metadata": {},
     "output_type": "display_data"
    },
    {
     "data": {
      "text/html": [
       "<div>\n",
       "<style scoped>\n",
       "    .dataframe tbody tr th:only-of-type {\n",
       "        vertical-align: middle;\n",
       "    }\n",
       "\n",
       "    .dataframe tbody tr th {\n",
       "        vertical-align: top;\n",
       "    }\n",
       "\n",
       "    .dataframe thead th {\n",
       "        text-align: right;\n",
       "    }\n",
       "</style>\n",
       "<table border=\"1\" class=\"dataframe\">\n",
       "  <thead>\n",
       "    <tr style=\"text-align: right;\">\n",
       "      <th></th>\n",
       "      <th>index</th>\n",
       "      <th>feature</th>\n",
       "      <th>importance</th>\n",
       "      <th>importance_normalized</th>\n",
       "    </tr>\n",
       "  </thead>\n",
       "  <tbody>\n",
       "    <tr>\n",
       "      <th>0</th>\n",
       "      <td>106</td>\n",
       "      <td>NAME_CONTRACT_TYPE_Revolving loans</td>\n",
       "      <td>0.056132</td>\n",
       "      <td>0.056132</td>\n",
       "    </tr>\n",
       "    <tr>\n",
       "      <th>1</th>\n",
       "      <td>30</td>\n",
       "      <td>EXT_SOURCE_3_x</td>\n",
       "      <td>0.043632</td>\n",
       "      <td>0.043632</td>\n",
       "    </tr>\n",
       "    <tr>\n",
       "      <th>2</th>\n",
       "      <td>29</td>\n",
       "      <td>EXT_SOURCE_2_x</td>\n",
       "      <td>0.035082</td>\n",
       "      <td>0.035082</td>\n",
       "    </tr>\n",
       "    <tr>\n",
       "      <th>3</th>\n",
       "      <td>130</td>\n",
       "      <td>NAME_EDUCATION_TYPE_Higher education</td>\n",
       "      <td>0.030694</td>\n",
       "      <td>0.030694</td>\n",
       "    </tr>\n",
       "    <tr>\n",
       "      <th>4</th>\n",
       "      <td>80</td>\n",
       "      <td>FLAG_DOCUMENT_3</td>\n",
       "      <td>0.021094</td>\n",
       "      <td>0.021094</td>\n",
       "    </tr>\n",
       "    <tr>\n",
       "      <th>...</th>\n",
       "      <td>...</td>\n",
       "      <td>...</td>\n",
       "      <td>...</td>\n",
       "      <td>...</td>\n",
       "    </tr>\n",
       "    <tr>\n",
       "      <th>280</th>\n",
       "      <td>196</td>\n",
       "      <td>ORGANIZATION_TYPE_Industry: type 8</td>\n",
       "      <td>0.000000</td>\n",
       "      <td>0.000000</td>\n",
       "    </tr>\n",
       "    <tr>\n",
       "      <th>281</th>\n",
       "      <td>194</td>\n",
       "      <td>ORGANIZATION_TYPE_Industry: type 6</td>\n",
       "      <td>0.000000</td>\n",
       "      <td>0.000000</td>\n",
       "    </tr>\n",
       "    <tr>\n",
       "      <th>282</th>\n",
       "      <td>99</td>\n",
       "      <td>AMT_REQ_CREDIT_BUREAU_HOUR</td>\n",
       "      <td>0.000000</td>\n",
       "      <td>0.000000</td>\n",
       "    </tr>\n",
       "    <tr>\n",
       "      <th>283</th>\n",
       "      <td>192</td>\n",
       "      <td>ORGANIZATION_TYPE_Industry: type 4</td>\n",
       "      <td>0.000000</td>\n",
       "      <td>0.000000</td>\n",
       "    </tr>\n",
       "    <tr>\n",
       "      <th>284</th>\n",
       "      <td>284</td>\n",
       "      <td>DAYS_BIRTH^3</td>\n",
       "      <td>0.000000</td>\n",
       "      <td>0.000000</td>\n",
       "    </tr>\n",
       "  </tbody>\n",
       "</table>\n",
       "<p>285 rows × 4 columns</p>\n",
       "</div>"
      ],
      "text/plain": [
       "     index                               feature  importance  \\\n",
       "0      106    NAME_CONTRACT_TYPE_Revolving loans    0.056132   \n",
       "1       30                        EXT_SOURCE_3_x    0.043632   \n",
       "2       29                        EXT_SOURCE_2_x    0.035082   \n",
       "3      130  NAME_EDUCATION_TYPE_Higher education    0.030694   \n",
       "4       80                       FLAG_DOCUMENT_3    0.021094   \n",
       "..     ...                                   ...         ...   \n",
       "280    196    ORGANIZATION_TYPE_Industry: type 8    0.000000   \n",
       "281    194    ORGANIZATION_TYPE_Industry: type 6    0.000000   \n",
       "282     99            AMT_REQ_CREDIT_BUREAU_HOUR    0.000000   \n",
       "283    192    ORGANIZATION_TYPE_Industry: type 4    0.000000   \n",
       "284    284                          DAYS_BIRTH^3    0.000000   \n",
       "\n",
       "     importance_normalized  \n",
       "0                 0.056132  \n",
       "1                 0.043632  \n",
       "2                 0.035082  \n",
       "3                 0.030694  \n",
       "4                 0.021094  \n",
       "..                     ...  \n",
       "280               0.000000  \n",
       "281               0.000000  \n",
       "282               0.000000  \n",
       "283               0.000000  \n",
       "284               0.000000  \n",
       "\n",
       "[285 rows x 4 columns]"
      ]
     },
     "execution_count": 41,
     "metadata": {},
     "output_type": "execute_result"
    }
   ],
   "source": [
    "plot_feature_importances(feature_importances)"
   ]
  },
  {
   "cell_type": "markdown",
   "id": "soviet-medication",
   "metadata": {},
   "source": [
    "### ROC Curve"
   ]
  },
  {
   "cell_type": "code",
   "execution_count": null,
   "id": "derived-youth",
   "metadata": {},
   "outputs": [],
   "source": []
  },
  {
   "cell_type": "code",
   "execution_count": null,
   "id": "unexpected-telephone",
   "metadata": {},
   "outputs": [],
   "source": []
  },
  {
   "cell_type": "code",
   "execution_count": null,
   "id": "collect-account",
   "metadata": {},
   "outputs": [],
   "source": []
  },
  {
   "cell_type": "code",
   "execution_count": null,
   "id": "major-sleeve",
   "metadata": {},
   "outputs": [],
   "source": []
  }
 ],
 "metadata": {
  "kernelspec": {
   "display_name": "Python [conda env:metis] *",
   "language": "python",
   "name": "conda-env-metis-py"
  },
  "language_info": {
   "codemirror_mode": {
    "name": "ipython",
    "version": 3
   },
   "file_extension": ".py",
   "mimetype": "text/x-python",
   "name": "python",
   "nbconvert_exporter": "python",
   "pygments_lexer": "ipython3",
   "version": "3.8.8"
  },
  "toc": {
   "base_numbering": 1,
   "nav_menu": {},
   "number_sections": true,
   "sideBar": true,
   "skip_h1_title": false,
   "title_cell": "Table of Contents",
   "title_sidebar": "Contents",
   "toc_cell": false,
   "toc_position": {
    "height": "calc(100% - 180px)",
    "left": "10px",
    "top": "150px",
    "width": "225.273px"
   },
   "toc_section_display": true,
   "toc_window_display": true
  },
  "varInspector": {
   "cols": {
    "lenName": 16,
    "lenType": 16,
    "lenVar": 40
   },
   "kernels_config": {
    "python": {
     "delete_cmd_postfix": "",
     "delete_cmd_prefix": "del ",
     "library": "var_list.py",
     "varRefreshCmd": "print(var_dic_list())"
    },
    "r": {
     "delete_cmd_postfix": ") ",
     "delete_cmd_prefix": "rm(",
     "library": "var_list.r",
     "varRefreshCmd": "cat(var_dic_list()) "
    }
   },
   "types_to_exclude": [
    "module",
    "function",
    "builtin_function_or_method",
    "instance",
    "_Feature"
   ],
   "window_display": false
  }
 },
 "nbformat": 4,
 "nbformat_minor": 5
}
